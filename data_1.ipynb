{
  "cells": [
    {
      "cell_type": "code",
      "execution_count": null,
      "metadata": {
        "id": "kxo4yl0zeiZH"
      },
      "outputs": [],
      "source": [
        "from numpy import loadtxt\n",
        "from keras.models import Sequential\n",
        "from keras.layers import Dense\n",
        "import pandas as pd\n",
        "from scipy import stats\n",
        "from mlxtend.preprocessing import minmax_scaling"
      ]
    },
    {
      "cell_type": "code",
      "execution_count": null,
      "metadata": {
        "colab": {
          "base_uri": "https://localhost:8080/"
        },
        "id": "Ya2r4v-setaM",
        "outputId": "fe106609-458b-4801-ca0d-0128ee345ea5"
      },
      "outputs": [
        {
          "output_type": "stream",
          "name": "stdout",
          "text": [
            "Drive already mounted at /content/drive; to attempt to forcibly remount, call drive.mount(\"/content/drive\", force_remount=True).\n"
          ]
        }
      ],
      "source": [
        "from google.colab import drive\n",
        "drive.mount('/content/drive')"
      ]
    },
    {
      "cell_type": "code",
      "execution_count": null,
      "metadata": {
        "colab": {
          "base_uri": "https://localhost:8080/"
        },
        "id": "ng39AzGZhWVI",
        "outputId": "9a98a123-7644-428e-b70e-795e87113563"
      },
      "outputs": [
        {
          "output_type": "execute_result",
          "data": {
            "text/plain": [
              "(3810, 7)"
            ]
          },
          "metadata": {},
          "execution_count": 24
        }
      ],
      "source": [
        "#veri setini içeri aktarıyoruz\n",
        "data = pd.read_csv('/content/drive/MyDrive/data-1.csv', delimiter=',')\n",
        "X = data.iloc[:,0:7].values\n",
        "y = data.iloc[:,7].values\n",
        "X.shape"
      ]
    },
    {
      "cell_type": "code",
      "execution_count": null,
      "metadata": {
        "colab": {
          "base_uri": "https://localhost:8080/"
        },
        "id": "EQC4c1DPhtxH",
        "outputId": "8e802c41-6de8-4df4-9805-dff22c222ed2"
      },
      "outputs": [
        {
          "output_type": "stream",
          "name": "stdout",
          "text": [
            "Model: \"sequential_42\"\n",
            "_________________________________________________________________\n",
            " Layer (type)                Output Shape              Param #   \n",
            "=================================================================\n",
            " dense_126 (Dense)           (None, 100)               800       \n",
            "                                                                 \n",
            " dense_127 (Dense)           (None, 30)                3030      \n",
            "                                                                 \n",
            " dense_128 (Dense)           (None, 1)                 31        \n",
            "                                                                 \n",
            "=================================================================\n",
            "Total params: 3,861\n",
            "Trainable params: 3,861\n",
            "Non-trainable params: 0\n",
            "_________________________________________________________________\n"
          ]
        }
      ],
      "source": [
        "#problem türü: sınıflandırma\n",
        "from keras.layers import Dropout\n",
        "from keras import regularizers\n",
        "#model olusturma\n",
        "#model 3 katmadan oluşuyor/giriş katmanı,hidden ve çıktı katmanı\n",
        "#model eğitim aşamasında overfitting'e ugradım grafikte train ve valid eğrilerim birbirine çok uzaktı.\n",
        "#overfitting engelleme yöntemlerinden regularization uyguladım her üc katmanda\n",
        "model = Sequential()\n",
        "model.add(Dense(100, input_dim=7,kernel_regularizer=regularizers.l2(0.01), activation='relu'))\n",
        "model.add(Dense(30, activation='relu',kernel_regularizer=regularizers.l2(0.01)))\n",
        "model.add(Dense(1, activation='sigmoid',kernel_regularizer=regularizers.l2(0.01)))\n",
        "model.summary()\n",
        "model.compile(loss='binary_crossentropy', optimizer='adam', metrics=['accuracy'])"
      ]
    },
    {
      "cell_type": "code",
      "execution_count": null,
      "metadata": {
        "id": "FUP8jmNkib9U"
      },
      "outputs": [],
      "source": [
        "#test verisi ayırma\n",
        "from sklearn.model_selection import train_test_split\n",
        "X_train,X_test,y_train,y_test=train_test_split(X,y,test_size=0.2,random_state=58)"
      ]
    },
    {
      "cell_type": "code",
      "execution_count": null,
      "metadata": {
        "id": "VglcnXIJc2I2"
      },
      "outputs": [],
      "source": [
        "#veri ölçeklendirme(0-1 arasında)\n",
        "from sklearn.preprocessing import MinMaxScaler\n",
        "mms = MinMaxScaler()\n",
        "X_train= mms.fit_transform(X_train)\n",
        "X_test= mms.transform(X_test)"
      ]
    },
    {
      "cell_type": "code",
      "execution_count": null,
      "metadata": {
        "colab": {
          "base_uri": "https://localhost:8080/"
        },
        "id": "QyiYvMX2ifG4",
        "outputId": "f81a4e74-0031-48ac-ae78-d9046917f7c6"
      },
      "outputs": [
        {
          "output_type": "stream",
          "name": "stdout",
          "text": [
            "Epoch 1/200\n",
            "77/77 [==============================] - 1s 5ms/step - loss: 1.0519 - accuracy: 0.7986 - val_loss: 0.8201 - val_accuracy: 0.8984\n",
            "Epoch 2/200\n",
            "77/77 [==============================] - 0s 3ms/step - loss: 0.6871 - accuracy: 0.8749 - val_loss: 0.5479 - val_accuracy: 0.9098\n",
            "Epoch 3/200\n",
            "77/77 [==============================] - 0s 3ms/step - loss: 0.5100 - accuracy: 0.9032 - val_loss: 0.4505 - val_accuracy: 0.9049\n",
            "Epoch 4/200\n",
            "77/77 [==============================] - 0s 3ms/step - loss: 0.4425 - accuracy: 0.9098 - val_loss: 0.3997 - val_accuracy: 0.9262\n",
            "Epoch 5/200\n",
            "77/77 [==============================] - 0s 3ms/step - loss: 0.4153 - accuracy: 0.9122 - val_loss: 0.3809 - val_accuracy: 0.9295\n",
            "Epoch 6/200\n",
            "77/77 [==============================] - 0s 4ms/step - loss: 0.3986 - accuracy: 0.9176 - val_loss: 0.3683 - val_accuracy: 0.9377\n",
            "Epoch 7/200\n",
            "77/77 [==============================] - 0s 3ms/step - loss: 0.3867 - accuracy: 0.9200 - val_loss: 0.3616 - val_accuracy: 0.9328\n",
            "Epoch 8/200\n",
            "77/77 [==============================] - 0s 3ms/step - loss: 0.3816 - accuracy: 0.9200 - val_loss: 0.3551 - val_accuracy: 0.9377\n",
            "Epoch 9/200\n",
            "77/77 [==============================] - 0s 4ms/step - loss: 0.3749 - accuracy: 0.9245 - val_loss: 0.3516 - val_accuracy: 0.9393\n",
            "Epoch 10/200\n",
            "77/77 [==============================] - 0s 3ms/step - loss: 0.3721 - accuracy: 0.9217 - val_loss: 0.3566 - val_accuracy: 0.9328\n",
            "Epoch 11/200\n",
            "77/77 [==============================] - 0s 3ms/step - loss: 0.3698 - accuracy: 0.9221 - val_loss: 0.3529 - val_accuracy: 0.9344\n",
            "Epoch 12/200\n",
            "77/77 [==============================] - 0s 3ms/step - loss: 0.3675 - accuracy: 0.9233 - val_loss: 0.3426 - val_accuracy: 0.9377\n",
            "Epoch 13/200\n",
            "77/77 [==============================] - 0s 3ms/step - loss: 0.3648 - accuracy: 0.9233 - val_loss: 0.3410 - val_accuracy: 0.9377\n",
            "Epoch 14/200\n",
            "77/77 [==============================] - 0s 3ms/step - loss: 0.3632 - accuracy: 0.9225 - val_loss: 0.3397 - val_accuracy: 0.9361\n",
            "Epoch 15/200\n",
            "77/77 [==============================] - 0s 3ms/step - loss: 0.3613 - accuracy: 0.9225 - val_loss: 0.3393 - val_accuracy: 0.9377\n",
            "Epoch 16/200\n",
            "77/77 [==============================] - 0s 3ms/step - loss: 0.3595 - accuracy: 0.9217 - val_loss: 0.3373 - val_accuracy: 0.9361\n",
            "Epoch 17/200\n",
            "77/77 [==============================] - 0s 3ms/step - loss: 0.3589 - accuracy: 0.9200 - val_loss: 0.3366 - val_accuracy: 0.9361\n",
            "Epoch 18/200\n",
            "77/77 [==============================] - 0s 3ms/step - loss: 0.3579 - accuracy: 0.9237 - val_loss: 0.3351 - val_accuracy: 0.9361\n",
            "Epoch 19/200\n",
            "77/77 [==============================] - 0s 3ms/step - loss: 0.3573 - accuracy: 0.9249 - val_loss: 0.3363 - val_accuracy: 0.9344\n",
            "Epoch 20/200\n",
            "77/77 [==============================] - 0s 2ms/step - loss: 0.3574 - accuracy: 0.9225 - val_loss: 0.3335 - val_accuracy: 0.9377\n",
            "Epoch 21/200\n",
            "77/77 [==============================] - 0s 3ms/step - loss: 0.3556 - accuracy: 0.9241 - val_loss: 0.3330 - val_accuracy: 0.9361\n",
            "Epoch 22/200\n",
            "77/77 [==============================] - 0s 3ms/step - loss: 0.3553 - accuracy: 0.9225 - val_loss: 0.3323 - val_accuracy: 0.9377\n",
            "Epoch 23/200\n",
            "77/77 [==============================] - 0s 3ms/step - loss: 0.3534 - accuracy: 0.9217 - val_loss: 0.3337 - val_accuracy: 0.9328\n",
            "Epoch 24/200\n",
            "77/77 [==============================] - 0s 3ms/step - loss: 0.3543 - accuracy: 0.9221 - val_loss: 0.3336 - val_accuracy: 0.9344\n",
            "Epoch 25/200\n",
            "77/77 [==============================] - 0s 3ms/step - loss: 0.3552 - accuracy: 0.9212 - val_loss: 0.3351 - val_accuracy: 0.9361\n",
            "Epoch 26/200\n",
            "77/77 [==============================] - 0s 3ms/step - loss: 0.3560 - accuracy: 0.9176 - val_loss: 0.3348 - val_accuracy: 0.9361\n",
            "Epoch 27/200\n",
            "77/77 [==============================] - 0s 3ms/step - loss: 0.3537 - accuracy: 0.9151 - val_loss: 0.3303 - val_accuracy: 0.9361\n",
            "Epoch 28/200\n",
            "77/77 [==============================] - 0s 3ms/step - loss: 0.3535 - accuracy: 0.9200 - val_loss: 0.3297 - val_accuracy: 0.9393\n",
            "Epoch 29/200\n",
            "77/77 [==============================] - 0s 3ms/step - loss: 0.3522 - accuracy: 0.9212 - val_loss: 0.3297 - val_accuracy: 0.9361\n",
            "Epoch 30/200\n",
            "77/77 [==============================] - 0s 3ms/step - loss: 0.3514 - accuracy: 0.9229 - val_loss: 0.3304 - val_accuracy: 0.9361\n",
            "Epoch 31/200\n",
            "77/77 [==============================] - 0s 3ms/step - loss: 0.3516 - accuracy: 0.9221 - val_loss: 0.3290 - val_accuracy: 0.9377\n",
            "Epoch 32/200\n",
            "77/77 [==============================] - 0s 3ms/step - loss: 0.3496 - accuracy: 0.9221 - val_loss: 0.3396 - val_accuracy: 0.9328\n",
            "Epoch 33/200\n",
            "77/77 [==============================] - 0s 3ms/step - loss: 0.3535 - accuracy: 0.9188 - val_loss: 0.3343 - val_accuracy: 0.9344\n",
            "Epoch 34/200\n",
            "77/77 [==============================] - 0s 3ms/step - loss: 0.3510 - accuracy: 0.9233 - val_loss: 0.3289 - val_accuracy: 0.9377\n",
            "Epoch 35/200\n",
            "77/77 [==============================] - 0s 4ms/step - loss: 0.3531 - accuracy: 0.9212 - val_loss: 0.3339 - val_accuracy: 0.9344\n",
            "Epoch 36/200\n",
            "77/77 [==============================] - 0s 3ms/step - loss: 0.3516 - accuracy: 0.9188 - val_loss: 0.3317 - val_accuracy: 0.9377\n",
            "Epoch 37/200\n",
            "77/77 [==============================] - 0s 3ms/step - loss: 0.3536 - accuracy: 0.9200 - val_loss: 0.3281 - val_accuracy: 0.9361\n",
            "Epoch 38/200\n",
            "77/77 [==============================] - 0s 3ms/step - loss: 0.3499 - accuracy: 0.9212 - val_loss: 0.3327 - val_accuracy: 0.9311\n",
            "Epoch 39/200\n",
            "77/77 [==============================] - 0s 3ms/step - loss: 0.3493 - accuracy: 0.9221 - val_loss: 0.3287 - val_accuracy: 0.9377\n",
            "Epoch 40/200\n",
            "77/77 [==============================] - 0s 3ms/step - loss: 0.3487 - accuracy: 0.9249 - val_loss: 0.3299 - val_accuracy: 0.9344\n",
            "Epoch 41/200\n",
            "77/77 [==============================] - 0s 3ms/step - loss: 0.3497 - accuracy: 0.9196 - val_loss: 0.3330 - val_accuracy: 0.9361\n",
            "Epoch 42/200\n",
            "77/77 [==============================] - 0s 3ms/step - loss: 0.3500 - accuracy: 0.9233 - val_loss: 0.3288 - val_accuracy: 0.9377\n",
            "Epoch 43/200\n",
            "77/77 [==============================] - 0s 4ms/step - loss: 0.3496 - accuracy: 0.9245 - val_loss: 0.3277 - val_accuracy: 0.9361\n",
            "Epoch 44/200\n",
            "77/77 [==============================] - 0s 3ms/step - loss: 0.3489 - accuracy: 0.9217 - val_loss: 0.3283 - val_accuracy: 0.9377\n",
            "Epoch 45/200\n",
            "77/77 [==============================] - 0s 3ms/step - loss: 0.3493 - accuracy: 0.9262 - val_loss: 0.3319 - val_accuracy: 0.9361\n",
            "Epoch 46/200\n",
            "77/77 [==============================] - 0s 3ms/step - loss: 0.3501 - accuracy: 0.9229 - val_loss: 0.3278 - val_accuracy: 0.9344\n",
            "Epoch 47/200\n",
            "77/77 [==============================] - 0s 3ms/step - loss: 0.3480 - accuracy: 0.9196 - val_loss: 0.3282 - val_accuracy: 0.9328\n",
            "Epoch 48/200\n",
            "77/77 [==============================] - 0s 3ms/step - loss: 0.3482 - accuracy: 0.9200 - val_loss: 0.3267 - val_accuracy: 0.9361\n",
            "Epoch 49/200\n",
            "77/77 [==============================] - 0s 3ms/step - loss: 0.3512 - accuracy: 0.9188 - val_loss: 0.3278 - val_accuracy: 0.9377\n",
            "Epoch 50/200\n",
            "77/77 [==============================] - 0s 3ms/step - loss: 0.3486 - accuracy: 0.9225 - val_loss: 0.3386 - val_accuracy: 0.9295\n",
            "Epoch 51/200\n",
            "77/77 [==============================] - 0s 4ms/step - loss: 0.3495 - accuracy: 0.9233 - val_loss: 0.3287 - val_accuracy: 0.9377\n",
            "Epoch 52/200\n",
            "77/77 [==============================] - 0s 3ms/step - loss: 0.3481 - accuracy: 0.9233 - val_loss: 0.3280 - val_accuracy: 0.9328\n",
            "Epoch 53/200\n",
            "77/77 [==============================] - 0s 3ms/step - loss: 0.3484 - accuracy: 0.9249 - val_loss: 0.3271 - val_accuracy: 0.9328\n",
            "Epoch 54/200\n",
            "77/77 [==============================] - 0s 3ms/step - loss: 0.3486 - accuracy: 0.9208 - val_loss: 0.3346 - val_accuracy: 0.9328\n",
            "Epoch 55/200\n",
            "77/77 [==============================] - 0s 3ms/step - loss: 0.3497 - accuracy: 0.9229 - val_loss: 0.3265 - val_accuracy: 0.9361\n",
            "Epoch 56/200\n",
            "77/77 [==============================] - 0s 3ms/step - loss: 0.3496 - accuracy: 0.9200 - val_loss: 0.3336 - val_accuracy: 0.9295\n",
            "Epoch 57/200\n",
            "77/77 [==============================] - 0s 3ms/step - loss: 0.3471 - accuracy: 0.9253 - val_loss: 0.3262 - val_accuracy: 0.9361\n",
            "Epoch 58/200\n",
            "77/77 [==============================] - 0s 3ms/step - loss: 0.3464 - accuracy: 0.9204 - val_loss: 0.3277 - val_accuracy: 0.9328\n",
            "Epoch 59/200\n",
            "77/77 [==============================] - 0s 3ms/step - loss: 0.3484 - accuracy: 0.9225 - val_loss: 0.3263 - val_accuracy: 0.9361\n",
            "Epoch 60/200\n",
            "77/77 [==============================] - 0s 3ms/step - loss: 0.3501 - accuracy: 0.9167 - val_loss: 0.3285 - val_accuracy: 0.9377\n",
            "Epoch 61/200\n",
            "77/77 [==============================] - 0s 3ms/step - loss: 0.3501 - accuracy: 0.9200 - val_loss: 0.3289 - val_accuracy: 0.9328\n",
            "Epoch 62/200\n",
            "77/77 [==============================] - 0s 3ms/step - loss: 0.3489 - accuracy: 0.9188 - val_loss: 0.3260 - val_accuracy: 0.9361\n",
            "Epoch 63/200\n",
            "77/77 [==============================] - 0s 3ms/step - loss: 0.3478 - accuracy: 0.9229 - val_loss: 0.3300 - val_accuracy: 0.9377\n",
            "Epoch 64/200\n",
            "77/77 [==============================] - 0s 3ms/step - loss: 0.3477 - accuracy: 0.9245 - val_loss: 0.3289 - val_accuracy: 0.9328\n",
            "Epoch 65/200\n",
            "77/77 [==============================] - 0s 3ms/step - loss: 0.3474 - accuracy: 0.9225 - val_loss: 0.3326 - val_accuracy: 0.9344\n",
            "Epoch 66/200\n",
            "77/77 [==============================] - 0s 3ms/step - loss: 0.3486 - accuracy: 0.9221 - val_loss: 0.3266 - val_accuracy: 0.9344\n",
            "Epoch 67/200\n",
            "77/77 [==============================] - 0s 3ms/step - loss: 0.3484 - accuracy: 0.9212 - val_loss: 0.3285 - val_accuracy: 0.9328\n",
            "Epoch 68/200\n",
            "77/77 [==============================] - 0s 4ms/step - loss: 0.3465 - accuracy: 0.9188 - val_loss: 0.3327 - val_accuracy: 0.9295\n",
            "Epoch 69/200\n",
            "77/77 [==============================] - 0s 4ms/step - loss: 0.3486 - accuracy: 0.9245 - val_loss: 0.3259 - val_accuracy: 0.9377\n",
            "Epoch 70/200\n",
            "77/77 [==============================] - 0s 4ms/step - loss: 0.3476 - accuracy: 0.9196 - val_loss: 0.3347 - val_accuracy: 0.9279\n",
            "Epoch 71/200\n",
            "77/77 [==============================] - 0s 3ms/step - loss: 0.3499 - accuracy: 0.9241 - val_loss: 0.3271 - val_accuracy: 0.9377\n",
            "Epoch 72/200\n",
            "77/77 [==============================] - 0s 3ms/step - loss: 0.3473 - accuracy: 0.9208 - val_loss: 0.3261 - val_accuracy: 0.9361\n",
            "Epoch 73/200\n",
            "77/77 [==============================] - 0s 3ms/step - loss: 0.3476 - accuracy: 0.9225 - val_loss: 0.3272 - val_accuracy: 0.9377\n",
            "Epoch 74/200\n",
            "77/77 [==============================] - 0s 3ms/step - loss: 0.3479 - accuracy: 0.9225 - val_loss: 0.3282 - val_accuracy: 0.9328\n",
            "Epoch 75/200\n",
            "77/77 [==============================] - 0s 3ms/step - loss: 0.3501 - accuracy: 0.9221 - val_loss: 0.3304 - val_accuracy: 0.9344\n",
            "Epoch 76/200\n",
            "77/77 [==============================] - 0s 3ms/step - loss: 0.3497 - accuracy: 0.9180 - val_loss: 0.3297 - val_accuracy: 0.9328\n",
            "Epoch 77/200\n",
            "77/77 [==============================] - 0s 3ms/step - loss: 0.3508 - accuracy: 0.9217 - val_loss: 0.3309 - val_accuracy: 0.9311\n",
            "Epoch 78/200\n",
            "77/77 [==============================] - 0s 3ms/step - loss: 0.3492 - accuracy: 0.9167 - val_loss: 0.3286 - val_accuracy: 0.9361\n",
            "Epoch 79/200\n",
            "77/77 [==============================] - 0s 3ms/step - loss: 0.3483 - accuracy: 0.9204 - val_loss: 0.3298 - val_accuracy: 0.9377\n",
            "Epoch 80/200\n",
            "77/77 [==============================] - 0s 3ms/step - loss: 0.3476 - accuracy: 0.9192 - val_loss: 0.3283 - val_accuracy: 0.9377\n",
            "Epoch 81/200\n",
            "77/77 [==============================] - 0s 3ms/step - loss: 0.3486 - accuracy: 0.9249 - val_loss: 0.3289 - val_accuracy: 0.9328\n",
            "Epoch 82/200\n",
            "77/77 [==============================] - 0s 4ms/step - loss: 0.3485 - accuracy: 0.9237 - val_loss: 0.3256 - val_accuracy: 0.9361\n",
            "Epoch 83/200\n",
            "77/77 [==============================] - 0s 3ms/step - loss: 0.3504 - accuracy: 0.9192 - val_loss: 0.3259 - val_accuracy: 0.9361\n",
            "Epoch 84/200\n",
            "77/77 [==============================] - 0s 3ms/step - loss: 0.3475 - accuracy: 0.9200 - val_loss: 0.3275 - val_accuracy: 0.9377\n",
            "Epoch 85/200\n",
            "77/77 [==============================] - 0s 3ms/step - loss: 0.3468 - accuracy: 0.9204 - val_loss: 0.3333 - val_accuracy: 0.9344\n",
            "Epoch 86/200\n",
            "77/77 [==============================] - 0s 3ms/step - loss: 0.3501 - accuracy: 0.9225 - val_loss: 0.3267 - val_accuracy: 0.9377\n",
            "Epoch 87/200\n",
            "77/77 [==============================] - 0s 3ms/step - loss: 0.3471 - accuracy: 0.9217 - val_loss: 0.3255 - val_accuracy: 0.9377\n",
            "Epoch 88/200\n",
            "77/77 [==============================] - 0s 3ms/step - loss: 0.3468 - accuracy: 0.9217 - val_loss: 0.3287 - val_accuracy: 0.9361\n",
            "Epoch 89/200\n",
            "77/77 [==============================] - 0s 3ms/step - loss: 0.3513 - accuracy: 0.9237 - val_loss: 0.3353 - val_accuracy: 0.9311\n",
            "Epoch 90/200\n",
            "77/77 [==============================] - 0s 3ms/step - loss: 0.3466 - accuracy: 0.9212 - val_loss: 0.3271 - val_accuracy: 0.9377\n",
            "Epoch 91/200\n",
            "77/77 [==============================] - 0s 4ms/step - loss: 0.3467 - accuracy: 0.9229 - val_loss: 0.3399 - val_accuracy: 0.9295\n",
            "Epoch 92/200\n",
            "77/77 [==============================] - 0s 3ms/step - loss: 0.3488 - accuracy: 0.9212 - val_loss: 0.3265 - val_accuracy: 0.9377\n",
            "Epoch 93/200\n",
            "77/77 [==============================] - 0s 3ms/step - loss: 0.3466 - accuracy: 0.9225 - val_loss: 0.3254 - val_accuracy: 0.9377\n",
            "Epoch 94/200\n",
            "77/77 [==============================] - 0s 4ms/step - loss: 0.3474 - accuracy: 0.9229 - val_loss: 0.3260 - val_accuracy: 0.9377\n",
            "Epoch 95/200\n",
            "77/77 [==============================] - 0s 3ms/step - loss: 0.3466 - accuracy: 0.9192 - val_loss: 0.3310 - val_accuracy: 0.9361\n",
            "Epoch 96/200\n",
            "77/77 [==============================] - 0s 3ms/step - loss: 0.3487 - accuracy: 0.9200 - val_loss: 0.3276 - val_accuracy: 0.9377\n",
            "Epoch 97/200\n",
            "77/77 [==============================] - 0s 3ms/step - loss: 0.3464 - accuracy: 0.9217 - val_loss: 0.3338 - val_accuracy: 0.9328\n",
            "Epoch 98/200\n",
            "77/77 [==============================] - 0s 3ms/step - loss: 0.3471 - accuracy: 0.9221 - val_loss: 0.3260 - val_accuracy: 0.9377\n",
            "Epoch 99/200\n",
            "77/77 [==============================] - 0s 3ms/step - loss: 0.3482 - accuracy: 0.9249 - val_loss: 0.3253 - val_accuracy: 0.9361\n",
            "Epoch 100/200\n",
            "77/77 [==============================] - 0s 3ms/step - loss: 0.3483 - accuracy: 0.9212 - val_loss: 0.3255 - val_accuracy: 0.9361\n",
            "Epoch 101/200\n",
            "77/77 [==============================] - 0s 3ms/step - loss: 0.3467 - accuracy: 0.9200 - val_loss: 0.3257 - val_accuracy: 0.9361\n",
            "Epoch 102/200\n",
            "77/77 [==============================] - 0s 3ms/step - loss: 0.3482 - accuracy: 0.9237 - val_loss: 0.3253 - val_accuracy: 0.9361\n",
            "Epoch 103/200\n",
            "77/77 [==============================] - 0s 3ms/step - loss: 0.3473 - accuracy: 0.9180 - val_loss: 0.3252 - val_accuracy: 0.9361\n",
            "Epoch 104/200\n",
            "77/77 [==============================] - 0s 3ms/step - loss: 0.3486 - accuracy: 0.9196 - val_loss: 0.3266 - val_accuracy: 0.9377\n",
            "Epoch 105/200\n",
            "77/77 [==============================] - 0s 3ms/step - loss: 0.3480 - accuracy: 0.9208 - val_loss: 0.3254 - val_accuracy: 0.9361\n",
            "Epoch 106/200\n",
            "77/77 [==============================] - 0s 3ms/step - loss: 0.3482 - accuracy: 0.9188 - val_loss: 0.3334 - val_accuracy: 0.9328\n",
            "Epoch 107/200\n",
            "77/77 [==============================] - 0s 3ms/step - loss: 0.3492 - accuracy: 0.9200 - val_loss: 0.3256 - val_accuracy: 0.9361\n",
            "Epoch 108/200\n",
            "77/77 [==============================] - 0s 3ms/step - loss: 0.3472 - accuracy: 0.9212 - val_loss: 0.3259 - val_accuracy: 0.9361\n",
            "Epoch 109/200\n",
            "77/77 [==============================] - 0s 3ms/step - loss: 0.3459 - accuracy: 0.9249 - val_loss: 0.3267 - val_accuracy: 0.9393\n",
            "Epoch 110/200\n",
            "77/77 [==============================] - 0s 3ms/step - loss: 0.3472 - accuracy: 0.9200 - val_loss: 0.3252 - val_accuracy: 0.9361\n",
            "Epoch 111/200\n",
            "77/77 [==============================] - 0s 3ms/step - loss: 0.3455 - accuracy: 0.9258 - val_loss: 0.3360 - val_accuracy: 0.9279\n",
            "Epoch 112/200\n",
            "77/77 [==============================] - 0s 3ms/step - loss: 0.3520 - accuracy: 0.9155 - val_loss: 0.3253 - val_accuracy: 0.9361\n",
            "Epoch 113/200\n",
            "77/77 [==============================] - 0s 3ms/step - loss: 0.3464 - accuracy: 0.9221 - val_loss: 0.3254 - val_accuracy: 0.9361\n",
            "Epoch 114/200\n",
            "77/77 [==============================] - 0s 3ms/step - loss: 0.3476 - accuracy: 0.9245 - val_loss: 0.3274 - val_accuracy: 0.9328\n",
            "Epoch 115/200\n",
            "77/77 [==============================] - 0s 3ms/step - loss: 0.3478 - accuracy: 0.9208 - val_loss: 0.3265 - val_accuracy: 0.9377\n",
            "Epoch 116/200\n",
            "77/77 [==============================] - 0s 3ms/step - loss: 0.3466 - accuracy: 0.9221 - val_loss: 0.3285 - val_accuracy: 0.9328\n",
            "Epoch 117/200\n",
            "77/77 [==============================] - 0s 3ms/step - loss: 0.3473 - accuracy: 0.9217 - val_loss: 0.3316 - val_accuracy: 0.9361\n",
            "Epoch 118/200\n",
            "77/77 [==============================] - 0s 3ms/step - loss: 0.3461 - accuracy: 0.9221 - val_loss: 0.3254 - val_accuracy: 0.9361\n",
            "Epoch 119/200\n",
            "77/77 [==============================] - 0s 3ms/step - loss: 0.3482 - accuracy: 0.9249 - val_loss: 0.3253 - val_accuracy: 0.9361\n",
            "Epoch 120/200\n",
            "77/77 [==============================] - 0s 3ms/step - loss: 0.3478 - accuracy: 0.9188 - val_loss: 0.3253 - val_accuracy: 0.9361\n",
            "Epoch 121/200\n",
            "77/77 [==============================] - 0s 3ms/step - loss: 0.3475 - accuracy: 0.9217 - val_loss: 0.3258 - val_accuracy: 0.9361\n",
            "Epoch 122/200\n",
            "77/77 [==============================] - 0s 3ms/step - loss: 0.3483 - accuracy: 0.9196 - val_loss: 0.3258 - val_accuracy: 0.9361\n",
            "Epoch 123/200\n",
            "77/77 [==============================] - 0s 4ms/step - loss: 0.3472 - accuracy: 0.9188 - val_loss: 0.3252 - val_accuracy: 0.9361\n",
            "Epoch 124/200\n",
            "77/77 [==============================] - 0s 3ms/step - loss: 0.3494 - accuracy: 0.9176 - val_loss: 0.3264 - val_accuracy: 0.9328\n",
            "Epoch 125/200\n",
            "77/77 [==============================] - 0s 3ms/step - loss: 0.3476 - accuracy: 0.9196 - val_loss: 0.3263 - val_accuracy: 0.9328\n",
            "Epoch 126/200\n",
            "77/77 [==============================] - 0s 3ms/step - loss: 0.3489 - accuracy: 0.9212 - val_loss: 0.3361 - val_accuracy: 0.9328\n",
            "Epoch 127/200\n",
            "77/77 [==============================] - 0s 3ms/step - loss: 0.3497 - accuracy: 0.9208 - val_loss: 0.3251 - val_accuracy: 0.9361\n",
            "Epoch 128/200\n",
            "77/77 [==============================] - 0s 4ms/step - loss: 0.3478 - accuracy: 0.9204 - val_loss: 0.3267 - val_accuracy: 0.9328\n",
            "Epoch 129/200\n",
            "77/77 [==============================] - 0s 3ms/step - loss: 0.3460 - accuracy: 0.9249 - val_loss: 0.3282 - val_accuracy: 0.9361\n",
            "Epoch 130/200\n",
            "77/77 [==============================] - 0s 4ms/step - loss: 0.3468 - accuracy: 0.9217 - val_loss: 0.3311 - val_accuracy: 0.9344\n",
            "Epoch 131/200\n",
            "77/77 [==============================] - 0s 3ms/step - loss: 0.3477 - accuracy: 0.9188 - val_loss: 0.3295 - val_accuracy: 0.9361\n",
            "Epoch 132/200\n",
            "77/77 [==============================] - 0s 3ms/step - loss: 0.3476 - accuracy: 0.9212 - val_loss: 0.3249 - val_accuracy: 0.9361\n",
            "Epoch 133/200\n",
            "77/77 [==============================] - 0s 3ms/step - loss: 0.3465 - accuracy: 0.9229 - val_loss: 0.3317 - val_accuracy: 0.9344\n",
            "Epoch 134/200\n",
            "77/77 [==============================] - 0s 3ms/step - loss: 0.3481 - accuracy: 0.9200 - val_loss: 0.3360 - val_accuracy: 0.9328\n",
            "Epoch 135/200\n",
            "77/77 [==============================] - 0s 3ms/step - loss: 0.3473 - accuracy: 0.9196 - val_loss: 0.3298 - val_accuracy: 0.9311\n",
            "Epoch 136/200\n",
            "77/77 [==============================] - 0s 3ms/step - loss: 0.3490 - accuracy: 0.9192 - val_loss: 0.3259 - val_accuracy: 0.9377\n",
            "Epoch 137/200\n",
            "77/77 [==============================] - 0s 3ms/step - loss: 0.3475 - accuracy: 0.9225 - val_loss: 0.3303 - val_accuracy: 0.9377\n",
            "Epoch 138/200\n",
            "77/77 [==============================] - 0s 3ms/step - loss: 0.3485 - accuracy: 0.9208 - val_loss: 0.3307 - val_accuracy: 0.9328\n",
            "Epoch 139/200\n",
            "77/77 [==============================] - 0s 3ms/step - loss: 0.3481 - accuracy: 0.9217 - val_loss: 0.3273 - val_accuracy: 0.9377\n",
            "Epoch 140/200\n",
            "77/77 [==============================] - 0s 4ms/step - loss: 0.3465 - accuracy: 0.9245 - val_loss: 0.3317 - val_accuracy: 0.9344\n",
            "Epoch 141/200\n",
            "77/77 [==============================] - 0s 3ms/step - loss: 0.3460 - accuracy: 0.9221 - val_loss: 0.3282 - val_accuracy: 0.9328\n",
            "Epoch 142/200\n",
            "77/77 [==============================] - 0s 3ms/step - loss: 0.3471 - accuracy: 0.9180 - val_loss: 0.3268 - val_accuracy: 0.9328\n",
            "Epoch 143/200\n",
            "77/77 [==============================] - 0s 3ms/step - loss: 0.3469 - accuracy: 0.9221 - val_loss: 0.3272 - val_accuracy: 0.9377\n",
            "Epoch 144/200\n",
            "77/77 [==============================] - 0s 3ms/step - loss: 0.3493 - accuracy: 0.9200 - val_loss: 0.3398 - val_accuracy: 0.9279\n",
            "Epoch 145/200\n",
            "77/77 [==============================] - 0s 3ms/step - loss: 0.3482 - accuracy: 0.9192 - val_loss: 0.3254 - val_accuracy: 0.9361\n",
            "Epoch 146/200\n",
            "77/77 [==============================] - 0s 3ms/step - loss: 0.3475 - accuracy: 0.9204 - val_loss: 0.3354 - val_accuracy: 0.9328\n",
            "Epoch 147/200\n",
            "77/77 [==============================] - 0s 3ms/step - loss: 0.3559 - accuracy: 0.9139 - val_loss: 0.3259 - val_accuracy: 0.9361\n",
            "Epoch 148/200\n",
            "77/77 [==============================] - 0s 3ms/step - loss: 0.3479 - accuracy: 0.9176 - val_loss: 0.3281 - val_accuracy: 0.9361\n",
            "Epoch 149/200\n",
            "77/77 [==============================] - 0s 3ms/step - loss: 0.3473 - accuracy: 0.9188 - val_loss: 0.3274 - val_accuracy: 0.9328\n",
            "Epoch 150/200\n",
            "77/77 [==============================] - 0s 3ms/step - loss: 0.3466 - accuracy: 0.9196 - val_loss: 0.3266 - val_accuracy: 0.9328\n",
            "Epoch 151/200\n",
            "77/77 [==============================] - 0s 3ms/step - loss: 0.3480 - accuracy: 0.9196 - val_loss: 0.3248 - val_accuracy: 0.9344\n",
            "Epoch 152/200\n",
            "77/77 [==============================] - 0s 3ms/step - loss: 0.3470 - accuracy: 0.9200 - val_loss: 0.3249 - val_accuracy: 0.9344\n",
            "Epoch 153/200\n",
            "77/77 [==============================] - 0s 3ms/step - loss: 0.3470 - accuracy: 0.9217 - val_loss: 0.3251 - val_accuracy: 0.9361\n",
            "Epoch 154/200\n",
            "77/77 [==============================] - 0s 3ms/step - loss: 0.3471 - accuracy: 0.9221 - val_loss: 0.3320 - val_accuracy: 0.9344\n",
            "Epoch 155/200\n",
            "77/77 [==============================] - 0s 3ms/step - loss: 0.3519 - accuracy: 0.9155 - val_loss: 0.3254 - val_accuracy: 0.9361\n",
            "Epoch 156/200\n",
            "77/77 [==============================] - 0s 3ms/step - loss: 0.3480 - accuracy: 0.9208 - val_loss: 0.3249 - val_accuracy: 0.9361\n",
            "Epoch 157/200\n",
            "77/77 [==============================] - 0s 3ms/step - loss: 0.3477 - accuracy: 0.9237 - val_loss: 0.3263 - val_accuracy: 0.9328\n",
            "Epoch 158/200\n",
            "77/77 [==============================] - 0s 3ms/step - loss: 0.3466 - accuracy: 0.9204 - val_loss: 0.3248 - val_accuracy: 0.9361\n",
            "Epoch 159/200\n",
            "77/77 [==============================] - 0s 4ms/step - loss: 0.3464 - accuracy: 0.9241 - val_loss: 0.3252 - val_accuracy: 0.9361\n",
            "Epoch 160/200\n",
            "77/77 [==============================] - 0s 3ms/step - loss: 0.3470 - accuracy: 0.9229 - val_loss: 0.3251 - val_accuracy: 0.9361\n",
            "Epoch 161/200\n",
            "77/77 [==============================] - 0s 3ms/step - loss: 0.3464 - accuracy: 0.9208 - val_loss: 0.3246 - val_accuracy: 0.9377\n",
            "Epoch 162/200\n",
            "77/77 [==============================] - 0s 3ms/step - loss: 0.3492 - accuracy: 0.9204 - val_loss: 0.3248 - val_accuracy: 0.9361\n",
            "Epoch 163/200\n",
            "77/77 [==============================] - 0s 3ms/step - loss: 0.3490 - accuracy: 0.9217 - val_loss: 0.3261 - val_accuracy: 0.9328\n",
            "Epoch 164/200\n",
            "77/77 [==============================] - 1s 8ms/step - loss: 0.3470 - accuracy: 0.9208 - val_loss: 0.3286 - val_accuracy: 0.9377\n",
            "Epoch 165/200\n",
            "77/77 [==============================] - 1s 10ms/step - loss: 0.3455 - accuracy: 0.9245 - val_loss: 0.3348 - val_accuracy: 0.9311\n",
            "Epoch 166/200\n",
            "77/77 [==============================] - 0s 3ms/step - loss: 0.3477 - accuracy: 0.9212 - val_loss: 0.3247 - val_accuracy: 0.9344\n",
            "Epoch 167/200\n",
            "77/77 [==============================] - 0s 3ms/step - loss: 0.3463 - accuracy: 0.9212 - val_loss: 0.3372 - val_accuracy: 0.9279\n",
            "Epoch 168/200\n",
            "77/77 [==============================] - 0s 3ms/step - loss: 0.3471 - accuracy: 0.9208 - val_loss: 0.3248 - val_accuracy: 0.9377\n",
            "Epoch 169/200\n",
            "77/77 [==============================] - 0s 3ms/step - loss: 0.3477 - accuracy: 0.9212 - val_loss: 0.3267 - val_accuracy: 0.9377\n",
            "Epoch 170/200\n",
            "77/77 [==============================] - 0s 3ms/step - loss: 0.3480 - accuracy: 0.9188 - val_loss: 0.3305 - val_accuracy: 0.9377\n",
            "Epoch 171/200\n",
            "77/77 [==============================] - 0s 3ms/step - loss: 0.3492 - accuracy: 0.9208 - val_loss: 0.3249 - val_accuracy: 0.9377\n",
            "Epoch 172/200\n",
            "77/77 [==============================] - 0s 3ms/step - loss: 0.3476 - accuracy: 0.9229 - val_loss: 0.3261 - val_accuracy: 0.9328\n",
            "Epoch 173/200\n",
            "77/77 [==============================] - 0s 3ms/step - loss: 0.3495 - accuracy: 0.9188 - val_loss: 0.3276 - val_accuracy: 0.9361\n",
            "Epoch 174/200\n",
            "77/77 [==============================] - 0s 4ms/step - loss: 0.3480 - accuracy: 0.9229 - val_loss: 0.3276 - val_accuracy: 0.9361\n",
            "Epoch 175/200\n",
            "77/77 [==============================] - 0s 3ms/step - loss: 0.3464 - accuracy: 0.9241 - val_loss: 0.3253 - val_accuracy: 0.9377\n",
            "Epoch 176/200\n",
            "77/77 [==============================] - 0s 3ms/step - loss: 0.3467 - accuracy: 0.9217 - val_loss: 0.3255 - val_accuracy: 0.9361\n",
            "Epoch 177/200\n",
            "77/77 [==============================] - 0s 3ms/step - loss: 0.3465 - accuracy: 0.9212 - val_loss: 0.3249 - val_accuracy: 0.9361\n",
            "Epoch 178/200\n",
            "77/77 [==============================] - 0s 4ms/step - loss: 0.3454 - accuracy: 0.9237 - val_loss: 0.3252 - val_accuracy: 0.9361\n",
            "Epoch 179/200\n",
            "77/77 [==============================] - 0s 3ms/step - loss: 0.3525 - accuracy: 0.9159 - val_loss: 0.3251 - val_accuracy: 0.9361\n",
            "Epoch 180/200\n",
            "77/77 [==============================] - 0s 4ms/step - loss: 0.3465 - accuracy: 0.9225 - val_loss: 0.3253 - val_accuracy: 0.9361\n",
            "Epoch 181/200\n",
            "77/77 [==============================] - 0s 3ms/step - loss: 0.3480 - accuracy: 0.9200 - val_loss: 0.3274 - val_accuracy: 0.9377\n",
            "Epoch 182/200\n",
            "77/77 [==============================] - 0s 4ms/step - loss: 0.3460 - accuracy: 0.9208 - val_loss: 0.3252 - val_accuracy: 0.9377\n",
            "Epoch 183/200\n",
            "77/77 [==============================] - 0s 3ms/step - loss: 0.3460 - accuracy: 0.9249 - val_loss: 0.3256 - val_accuracy: 0.9328\n",
            "Epoch 184/200\n",
            "77/77 [==============================] - 0s 3ms/step - loss: 0.3459 - accuracy: 0.9241 - val_loss: 0.3256 - val_accuracy: 0.9328\n",
            "Epoch 185/200\n",
            "77/77 [==============================] - 0s 3ms/step - loss: 0.3510 - accuracy: 0.9196 - val_loss: 0.3248 - val_accuracy: 0.9361\n",
            "Epoch 186/200\n",
            "77/77 [==============================] - 0s 3ms/step - loss: 0.3495 - accuracy: 0.9196 - val_loss: 0.3250 - val_accuracy: 0.9361\n",
            "Epoch 187/200\n",
            "77/77 [==============================] - 0s 3ms/step - loss: 0.3476 - accuracy: 0.9196 - val_loss: 0.3247 - val_accuracy: 0.9361\n",
            "Epoch 188/200\n",
            "77/77 [==============================] - 0s 3ms/step - loss: 0.3463 - accuracy: 0.9200 - val_loss: 0.3252 - val_accuracy: 0.9377\n",
            "Epoch 189/200\n",
            "77/77 [==============================] - 0s 4ms/step - loss: 0.3452 - accuracy: 0.9200 - val_loss: 0.3249 - val_accuracy: 0.9377\n",
            "Epoch 190/200\n",
            "77/77 [==============================] - 0s 3ms/step - loss: 0.3486 - accuracy: 0.9196 - val_loss: 0.3256 - val_accuracy: 0.9377\n",
            "Epoch 191/200\n",
            "77/77 [==============================] - 0s 4ms/step - loss: 0.3472 - accuracy: 0.9208 - val_loss: 0.3245 - val_accuracy: 0.9361\n",
            "Epoch 192/200\n",
            "77/77 [==============================] - 0s 3ms/step - loss: 0.3466 - accuracy: 0.9237 - val_loss: 0.3266 - val_accuracy: 0.9328\n",
            "Epoch 193/200\n",
            "77/77 [==============================] - 0s 3ms/step - loss: 0.3467 - accuracy: 0.9212 - val_loss: 0.3246 - val_accuracy: 0.9361\n",
            "Epoch 194/200\n",
            "77/77 [==============================] - 0s 3ms/step - loss: 0.3470 - accuracy: 0.9204 - val_loss: 0.3260 - val_accuracy: 0.9377\n",
            "Epoch 195/200\n",
            "77/77 [==============================] - 0s 3ms/step - loss: 0.3497 - accuracy: 0.9180 - val_loss: 0.3266 - val_accuracy: 0.9377\n",
            "Epoch 196/200\n",
            "77/77 [==============================] - 0s 3ms/step - loss: 0.3473 - accuracy: 0.9221 - val_loss: 0.3265 - val_accuracy: 0.9328\n",
            "Epoch 197/200\n",
            "77/77 [==============================] - 0s 3ms/step - loss: 0.3472 - accuracy: 0.9212 - val_loss: 0.3247 - val_accuracy: 0.9361\n",
            "Epoch 198/200\n",
            "77/77 [==============================] - 0s 3ms/step - loss: 0.3459 - accuracy: 0.9212 - val_loss: 0.3248 - val_accuracy: 0.9361\n",
            "Epoch 199/200\n",
            "77/77 [==============================] - 0s 3ms/step - loss: 0.3458 - accuracy: 0.9212 - val_loss: 0.3250 - val_accuracy: 0.9361\n",
            "Epoch 200/200\n",
            "77/77 [==============================] - 0s 3ms/step - loss: 0.3455 - accuracy: 0.9233 - val_loss: 0.3247 - val_accuracy: 0.9377\n"
          ]
        }
      ],
      "source": [
        "history=model.fit(X_train,y_train,validation_split=0.2,epochs=200)"
      ]
    },
    {
      "cell_type": "code",
      "execution_count": null,
      "metadata": {
        "colab": {
          "base_uri": "https://localhost:8080/",
          "height": 590
        },
        "id": "sfBQF93wi08V",
        "outputId": "9e022008-31f7-4f10-be28-f3cf3ce77efa"
      },
      "outputs": [
        {
          "output_type": "stream",
          "name": "stdout",
          "text": [
            "dict_keys(['loss', 'accuracy', 'val_loss', 'val_accuracy'])\n"
          ]
        },
        {
          "output_type": "display_data",
          "data": {
            "text/plain": [
              "<Figure size 432x288 with 1 Axes>"
            ],
            "image/png": "[encoded data removed]"
          },
          "metadata": {
            "needs_background": "light"
          }
        },
        {
          "output_type": "display_data",
          "data": {
            "text/plain": [
              "<Figure size 432x288 with 1 Axes>"
            ],
            "image/png": "[encoded data removed]"
          },
          "metadata": {
            "needs_background": "light"
          }
        }
      ],
      "source": [
        "import matplotlib.pyplot as plt\n",
        "\n",
        "print(history.history.keys())\n",
        "# accuracy grafigi\n",
        "plt.plot(history.history['accuracy'])\n",
        "plt.plot(history.history['val_accuracy'])\n",
        "plt.title('model accuracy')\n",
        "plt.ylabel('accuracy')\n",
        "plt.xlabel('epoch')\n",
        "plt.legend(['train', 'valid'], loc='upper left')\n",
        "plt.show()\n",
        "# loss grafigi\n",
        "plt.plot(history.history['loss'])\n",
        "plt.plot(history.history['val_loss'])\n",
        "plt.title('model loss')\n",
        "plt.ylabel('loss')\n",
        "plt.xlabel('epoch')\n",
        "plt.legend(['train', 'valid'], loc='upper left')\n",
        "plt.show()"
      ]
    },
    {
      "cell_type": "code",
      "execution_count": null,
      "metadata": {
        "colab": {
          "base_uri": "https://localhost:8080/"
        },
        "id": "FJYDytTmjNHF",
        "outputId": "34271358-423f-43cc-f6f7-58b9ffd56c03"
      },
      "outputs": [
        {
          "output_type": "stream",
          "name": "stdout",
          "text": [
            "3048/3048 [==============================] - 8s 3ms/step - loss: 0.3406 - accuracy: 0.9281\n",
            "Training Accuracy: 92.81%\n",
            "\n",
            "762/762 [==============================] - 2s 2ms/step - loss: 0.3313 - accuracy: 0.9344\n",
            "Testing Accuracy: 93.44%\n",
            "\n"
          ]
        }
      ],
      "source": [
        "scores = model.evaluate(X_train,y_train,batch_size=1)\n",
        "print(\"Training Accuracy: %.2f%%\\n\" % (scores[1]*100))\n",
        "scores = model.evaluate(X_test,y_test,batch_size=1)\n",
        "print(\"Testing Accuracy: %.2f%%\\n\" % (scores[1]*100))"
      ]
    },
    {
      "cell_type": "code",
      "execution_count": null,
      "metadata": {
        "colab": {
          "base_uri": "https://localhost:8080/",
          "height": 316
        },
        "id": "DV95PXSqjQJU",
        "outputId": "17e064b3-b81e-4831-d3f8-9c88fdff8816"
      },
      "outputs": [
        {
          "output_type": "stream",
          "name": "stdout",
          "text": [
            "[1, 0, 0, 0, 0, 1, 1, 0, 0, 1, 0, 0, 0, 0, 1, 1, 1, 1, 0, 0, 0, 0, 1, 1, 0, 0, 1, 0, 1, 0, 1, 1, 0, 1, 1, 1, 1, 1, 1, 1, 1, 0, 1, 1, 0, 0, 0, 0, 0, 0, 0, 1, 1, 1, 0, 1, 1, 1, 0, 1, 0, 0, 1, 0, 1, 1, 1, 1, 1, 1, 0, 1, 1, 1, 0, 1, 0, 1, 1, 0, 1, 1, 0, 0, 0, 1, 0, 0, 1, 0, 1, 0, 0, 0, 1, 1, 0, 1, 0, 0, 0, 0, 1, 1, 1, 1, 1, 1, 1, 0, 1, 1, 0, 1, 1, 1, 1, 1, 1, 0, 1, 1, 1, 1, 0, 1, 0, 1, 1, 0, 0, 1, 1, 0, 1, 1, 1, 0, 1, 0, 0, 0, 0, 1, 1, 1, 1, 1, 0, 0, 1, 1, 1, 0, 0, 1, 0, 0, 1, 0, 0, 0, 1, 1, 0, 0, 0, 1, 1, 0, 0, 0, 1, 1, 0, 1, 0, 1, 1, 1, 1, 0, 0, 1, 1, 1, 1, 0, 1, 0, 1, 1, 1, 1, 1, 0, 1, 1, 0, 0, 0, 0, 1, 1, 0, 1, 1, 0, 0, 0, 1, 0, 0, 1, 1, 0, 0, 1, 0, 0, 1, 1, 0, 1, 1, 0, 1, 1, 1, 1, 0, 0, 1, 0, 1, 1, 0, 0, 1, 0, 1, 1, 1, 1, 1, 0, 1, 1, 0, 1, 1, 1, 0, 1, 0, 1, 0, 1, 1, 0, 1, 1, 0, 0, 1, 1, 0, 0, 1, 0, 1, 1, 1, 1, 0, 1, 1, 0, 0, 1, 0, 1, 1, 0, 0, 1, 0, 0, 0, 1, 1, 1, 1, 0, 1, 1, 0, 0, 0, 1, 1, 0, 0, 1, 1, 1, 1, 0, 1, 1, 1, 0, 1, 0, 1, 0, 0, 1, 1, 1, 1, 0, 1, 1, 0, 1, 0, 1, 0, 1, 1, 1, 0, 0, 0, 1, 0, 1, 1, 1, 1, 1, 0, 1, 0, 1, 0, 1, 1, 1, 1, 1, 1, 1, 1, 0, 1, 1, 1, 0, 1, 0, 1, 0, 0, 1, 1, 0, 0, 1, 0, 1, 1, 1, 0, 0, 0, 0, 1, 1, 0, 1, 0, 0, 0, 1, 1, 0, 1, 1, 1, 1, 0, 1, 1, 1, 1, 1, 0, 1, 1, 1, 1, 1, 0, 1, 0, 0, 0, 1, 0, 1, 0, 1, 0, 0, 1, 0, 0, 1, 1, 0, 1, 0, 1, 1, 1, 1, 0, 1, 1, 1, 1, 0, 0, 1, 0, 0, 1, 1, 1, 0, 1, 1, 0, 0, 1, 0, 1, 1, 1, 0, 1, 1, 1, 1, 0, 0, 1, 0, 1, 0, 1, 0, 1, 1, 1, 0, 0, 1, 1, 1, 1, 0, 0, 1, 1, 1, 0, 1, 0, 0, 1, 0, 1, 1, 1, 0, 0, 0, 0, 0, 1, 1, 1, 1, 0, 0, 0, 1, 1, 0, 0, 1, 1, 1, 0, 0, 0, 1, 0, 0, 0, 0, 0, 1, 0, 1, 1, 1, 1, 1, 1, 0, 1, 1, 1, 0, 0, 1, 1, 1, 1, 1, 1, 0, 1, 1, 1, 0, 1, 1, 1, 0, 0, 1, 1, 1, 1, 0, 0, 0, 1, 0, 0, 1, 1, 1, 0, 1, 0, 1, 1, 1, 1, 1, 1, 0, 0, 1, 1, 1, 1, 1, 0, 1, 1, 1, 0, 1, 0, 0, 1, 0, 1, 1, 0, 1, 1, 1, 1, 1, 0, 1, 1, 0, 1, 1, 1, 0, 1, 0, 0, 1, 1, 1, 1, 1, 0, 1, 1, 1, 0, 0, 0, 1, 0, 0, 1, 1, 1, 1, 0, 1, 1, 0, 0, 0, 0, 1, 1, 1, 0, 1, 0, 0, 0, 1, 0, 1, 0, 0, 1, 1, 0, 0, 1, 0, 1, 0, 1, 0, 0, 1, 1, 1, 1, 1, 1, 1, 0, 1, 1, 0, 1, 1, 0, 1, 0, 0, 1, 0, 1, 1, 1, 0, 1, 1, 1, 0, 1, 1, 0, 0, 1, 1, 1, 0, 0, 0, 1, 1, 0, 1, 1, 0, 1, 1, 1, 0, 1, 1, 0, 1, 0, 0, 0, 1, 1, 0, 0, 1, 1, 1, 0, 0, 1, 0, 1, 1, 1, 0, 0, 0, 1, 1, 1, 0, 0, 1, 1, 0, 1, 1, 1, 0, 0, 0, 1, 0, 1, 0, 1, 0, 0, 0, 1, 1, 1, 0, 0, 1, 1, 1, 0, 0, 1, 1, 1, 0, 1, 0]\n"
          ]
        },
        {
          "output_type": "display_data",
          "data": {
            "text/plain": [
              "<Figure size 432x288 with 1 Axes>"
            ],
            "image/png": "[encoded data removed]"
          },
          "metadata": {
            "needs_background": "light"
          }
        }
      ],
      "source": [
        "#confusion matrix olusturma\n",
        "from sklearn.metrics import confusion_matrix\n",
        "import seaborn as sns\n",
        "import matplotlib.pyplot as plt\n",
        "y_pred_test = model.predict(X_test)\n",
        "y_pred=[]\n",
        "for i in y_pred_test:\n",
        "  if(i>=0.5):\n",
        "    y_pred.append(1)\n",
        "  else:\n",
        "    y_pred.append(0)\n",
        "print(y_pred)\n",
        "cm = confusion_matrix(y_test,y_pred)\n",
        "ax = sns.heatmap(cm, annot=True, xticklabels=[\"commeron\",'osmancık'], yticklabels=['commeron','osmancık'],\n",
        "                fmt='g',cbar=False,cmap='OrRd')\n",
        "ax.set_xlabel('Prediction')\n",
        "ax.set_ylabel('Actual')\n",
        "plt.show()"
      ]
    },
    {
      "cell_type": "code",
      "execution_count": null,
      "metadata": {
        "colab": {
          "base_uri": "https://localhost:8080/",
          "height": 264
        },
        "id": "0dPl-vI-oWPQ",
        "outputId": "46826d14-d744-4c2b-8d82-da128e6ba856"
      },
      "outputs": [
        {
          "output_type": "display_data",
          "data": {
            "text/plain": [
              "<Figure size 420x280 with 1 Axes>"
            ],
            "image/png": "[encoded data removed]"
          },
          "metadata": {
            "needs_background": "light"
          }
        }
      ],
      "source": [
        "from sklearn import metrics\n",
        "from imblearn.metrics import sensitivity_score , specificity_score\n",
        "import matplotlib.pyplot as plt \n",
        "accuracy = metrics.accuracy_score(y_test, y_pred)\n",
        "precision=metrics.precision_score(y_test, y_pred)\n",
        "sensitivity= sensitivity_score(y_test, y_pred)\n",
        "specificity= specificity_score(y_test, y_pred)\n",
        "f1_score=2*(precision*sensitivity)/(precision+sensitivity)\n",
        "\n",
        "fig = plt.figure(dpi=70)\n",
        "ax = fig.add_subplot(1,1,1)\n",
        "table_data=[\n",
        "    [\"accuracy\", accuracy],\n",
        "    [\"precision\", precision],\n",
        "    [\"sensitivity\", sensitivity],\n",
        "    [\"specifity\", specificity],\n",
        "    [\"f1 score\", f1_score]\n",
        "]\n",
        "table = ax.table(cellText=table_data, loc='center')\n",
        "table.set_fontsize(14)\n",
        "table.scale(1,4)\n",
        "ax.axis('off')\n",
        "plt.show()"
      ]
    },
    {
      "cell_type": "code",
      "execution_count": null,
      "metadata": {
        "id": "NM6heRsXOCeS"
      },
      "outputs": [],
      "source": [
        "#farklı optimizasyon algoritmalarını denemek için modeli tekrar oluşturdum\n",
        "from keras.layers import Dense, Dropout\n",
        "from keras import regularizers\n",
        "import keras\n",
        "from keras.models import Sequential\n",
        "\n",
        "def build_model(optimizer):\n",
        "\n",
        "  model = Sequential()\n",
        "  model.add(Dense(100, input_dim=7,kernel_regularizer=regularizers.l2(0.01), activation='relu'))\n",
        "  model.add(Dense(50, activation='relu',kernel_regularizer=regularizers.l2(0.01)))\n",
        "  model.add(Dense(1, activation='sigmoid',kernel_regularizer=regularizers.l2(0.01)))\n",
        "  model.summary()\n",
        "\n",
        "  model.compile(loss='binary_crossentropy', optimizer= optimizer, metrics=['accuracy'])\n",
        "  return model"
      ]
    },
    {
      "cell_type": "code",
      "execution_count": null,
      "metadata": {
        "colab": {
          "base_uri": "https://localhost:8080/"
        },
        "id": "AtkIB_SFuMlv",
        "outputId": "14f44e7b-2438-4562-e560-ad764c0e96e4"
      },
      "outputs": [
        {
          "output_type": "stream",
          "name": "stdout",
          "text": [
            "Model: \"sequential_34\"\n",
            "_________________________________________________________________\n",
            " Layer (type)                Output Shape              Param #   \n",
            "=================================================================\n",
            " dense_102 (Dense)           (None, 100)               800       \n",
            "                                                                 \n",
            " dense_103 (Dense)           (None, 50)                5050      \n",
            "                                                                 \n",
            " dense_104 (Dense)           (None, 1)                 51        \n",
            "                                                                 \n",
            "=================================================================\n",
            "Total params: 5,901\n",
            "Trainable params: 5,901\n",
            "Non-trainable params: 0\n",
            "_________________________________________________________________\n",
            "Optimizer :Adam\n",
            "Model: \"sequential_35\"\n",
            "_________________________________________________________________\n",
            " Layer (type)                Output Shape              Param #   \n",
            "=================================================================\n",
            " dense_105 (Dense)           (None, 100)               800       \n",
            "                                                                 \n",
            " dense_106 (Dense)           (None, 50)                5050      \n",
            "                                                                 \n",
            " dense_107 (Dense)           (None, 1)                 51        \n",
            "                                                                 \n",
            "=================================================================\n",
            "Total params: 5,901\n",
            "Trainable params: 5,901\n",
            "Non-trainable params: 0\n",
            "_________________________________________________________________\n",
            "Optimizer :SGD\n",
            "Model: \"sequential_36\"\n",
            "_________________________________________________________________\n",
            " Layer (type)                Output Shape              Param #   \n",
            "=================================================================\n",
            " dense_108 (Dense)           (None, 100)               800       \n",
            "                                                                 \n",
            " dense_109 (Dense)           (None, 50)                5050      \n",
            "                                                                 \n",
            " dense_110 (Dense)           (None, 1)                 51        \n",
            "                                                                 \n",
            "=================================================================\n",
            "Total params: 5,901\n",
            "Trainable params: 5,901\n",
            "Non-trainable params: 0\n",
            "_________________________________________________________________\n",
            "Optimizer :Adadelta\n",
            "Model: \"sequential_37\"\n",
            "_________________________________________________________________\n",
            " Layer (type)                Output Shape              Param #   \n",
            "=================================================================\n",
            " dense_111 (Dense)           (None, 100)               800       \n",
            "                                                                 \n",
            " dense_112 (Dense)           (None, 50)                5050      \n",
            "                                                                 \n",
            " dense_113 (Dense)           (None, 1)                 51        \n",
            "                                                                 \n",
            "=================================================================\n",
            "Total params: 5,901\n",
            "Trainable params: 5,901\n",
            "Non-trainable params: 0\n",
            "_________________________________________________________________\n",
            "Optimizer :Adagrad\n",
            "Model: \"sequential_38\"\n",
            "_________________________________________________________________\n",
            " Layer (type)                Output Shape              Param #   \n",
            "=================================================================\n",
            " dense_114 (Dense)           (None, 100)               800       \n",
            "                                                                 \n",
            " dense_115 (Dense)           (None, 50)                5050      \n",
            "                                                                 \n",
            " dense_116 (Dense)           (None, 1)                 51        \n",
            "                                                                 \n",
            "=================================================================\n",
            "Total params: 5,901\n",
            "Trainable params: 5,901\n",
            "Non-trainable params: 0\n",
            "_________________________________________________________________\n",
            "Optimizer :Adamax\n",
            "Model: \"sequential_39\"\n",
            "_________________________________________________________________\n",
            " Layer (type)                Output Shape              Param #   \n",
            "=================================================================\n",
            " dense_117 (Dense)           (None, 100)               800       \n",
            "                                                                 \n",
            " dense_118 (Dense)           (None, 50)                5050      \n",
            "                                                                 \n",
            " dense_119 (Dense)           (None, 1)                 51        \n",
            "                                                                 \n",
            "=================================================================\n",
            "Total params: 5,901\n",
            "Trainable params: 5,901\n",
            "Non-trainable params: 0\n",
            "_________________________________________________________________\n",
            "Optimizer :Nadam\n",
            "Model: \"sequential_40\"\n",
            "_________________________________________________________________\n",
            " Layer (type)                Output Shape              Param #   \n",
            "=================================================================\n",
            " dense_120 (Dense)           (None, 100)               800       \n",
            "                                                                 \n",
            " dense_121 (Dense)           (None, 50)                5050      \n",
            "                                                                 \n",
            " dense_122 (Dense)           (None, 1)                 51        \n",
            "                                                                 \n",
            "=================================================================\n",
            "Total params: 5,901\n",
            "Trainable params: 5,901\n",
            "Non-trainable params: 0\n",
            "_________________________________________________________________\n",
            "Optimizer :Ftrl\n",
            "Model: \"sequential_41\"\n",
            "_________________________________________________________________\n",
            " Layer (type)                Output Shape              Param #   \n",
            "=================================================================\n",
            " dense_123 (Dense)           (None, 100)               800       \n",
            "                                                                 \n",
            " dense_124 (Dense)           (None, 50)                5050      \n",
            "                                                                 \n",
            " dense_125 (Dense)           (None, 1)                 51        \n",
            "                                                                 \n",
            "=================================================================\n",
            "Total params: 5,901\n",
            "Trainable params: 5,901\n",
            "Non-trainable params: 0\n",
            "_________________________________________________________________\n",
            "Optimizer :Rmsprop\n"
          ]
        }
      ],
      "source": [
        "optimizers = {\n",
        "        'Adam': 'optim.Adam(model.parameters())',\n",
        "        'SGD': 'optim.SGD(model.parameters(), lr=0.01, momentum=0.9)',\n",
        "        'Adadelta': 'optim.Adadelta(model.parameters())',\n",
        "        'Adagrad': 'optim.Adagrad(model.parameters())',\n",
        "        'Adamax': 'optim.Adamax(model.parameters())',\n",
        "        'Nadam': 'optim.Nadam(model.parameters())',\n",
        "        'Ftrl': 'optim.Ftrl(model.parameters())',\n",
        "        'Rmsprop': 'optim.Rmsprop(model.parameters())',\n",
        "    }\n",
        "val_accuracy=[]\n",
        "val_loss=[]\n",
        "for i in optimizers:\n",
        "  model = build_model(i)\n",
        "  history=model.fit(X_train,y_train,validation_split=0.2,verbose=0,epochs=50)\n",
        "  val_accuracy.append(history.history['val_accuracy'])\n",
        "  val_loss.append(history.history['val_loss'])\n",
        "  print('Optimizer :'+i)"
      ]
    },
    {
      "cell_type": "code",
      "execution_count": null,
      "metadata": {
        "colab": {
          "base_uri": "https://localhost:8080/",
          "height": 541
        },
        "id": "X0ZF6QpsvNCF",
        "outputId": "93c8a23f-d9e2-4797-ecb8-2da5b6a08177"
      },
      "outputs": [
        {
          "output_type": "display_data",
          "data": {
            "text/plain": [
              "<Figure size 432x288 with 1 Axes>"
            ],
            "image/png": "[encoded data removed]"
          },
          "metadata": {
            "needs_background": "light"
          }
        },
        {
          "output_type": "display_data",
          "data": {
            "text/plain": [
              "<Figure size 432x288 with 1 Axes>"
            ],
            "image/png": "[encoded data removed]"
          },
          "metadata": {
            "needs_background": "light"
          }
        }
      ],
      "source": [
        "import pickle\n",
        "import random\n",
        "from matplotlib import pyplot as plt\n",
        "import numpy as np \n",
        "\n",
        "optimizers_ = list(optimizers.keys())\n",
        "val_accuracy = dict(zip(optimizers_, val_accuracy))\n",
        "val_loss = dict(zip(optimizers_, val_loss))\n",
        "\n",
        "with open('val_accuracies', 'wb') as f:\n",
        "    pickle.dump(val_accuracy, f)\n",
        "with open('val_losses', 'wb') as f:\n",
        "    pickle.dump(val_loss, f)\n",
        "\n",
        "x = np.arange(50) + 1\n",
        "\n",
        "for optimizers_ in optimizers_:\n",
        "    plt.plot(x, val_accuracy[optimizers_], label=optimizers_)\n",
        "\n",
        "plt.ylabel('validation accuracies')\n",
        "plt.xlabel('epoch')\n",
        "plt.legend()\n",
        "plt.show()\n",
        "\n",
        "for optimizers_ in optimizers:\n",
        "    plt.plot(x, val_loss[optimizers_], label=optimizers_)\n",
        "\n",
        "plt.ylabel('validation losses')\n",
        "plt.xlabel('epoch')\n",
        "plt.legend()\n",
        "plt.show()"
      ]
    }
  ],
  "metadata": {
    "colab": {
      "collapsed_sections": [],
      "name": "data-1.ipynb",
      "provenance": [],
      "mount_file_id": "1chqWcap6Hbk_gy_aYszgkqDa7wlhR3qZ",
      "authorship_tag": "ABX9TyNszclDv8CCzwmm/2IqATwR"
    },
    "kernelspec": {
      "display_name": "Python 3",
      "name": "python3"
    },
    "language_info": {
      "name": "python"
    }
  },
  "nbformat": 4,
  "nbformat_minor": 0
}